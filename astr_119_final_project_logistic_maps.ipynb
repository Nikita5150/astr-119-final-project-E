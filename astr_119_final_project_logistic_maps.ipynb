{
 "cells": [
  {
   "cell_type": "markdown",
   "metadata": {},
   "source": [
    "# Logistic Maps"
   ]
  },
  {
   "cell_type": "markdown",
   "metadata": {},
   "source": [
    "William Ryan /\n",
    "Trey Vera /\n",
    "Liam Thirtyacre /\n",
    "Nikita Tournebise /"
   ]
  },
  {
   "cell_type": "markdown",
   "metadata": {},
   "source": [
    "We put our names underneath the sections we all began working on. However, we all helped debug each others code as we put everything together. There were a lot of problems so the work alotment was pretty uniform."
   ]
  },
  {
   "cell_type": "code",
   "execution_count": null,
   "metadata": {
    "scrolled": false
   },
   "outputs": [],
   "source": [
    "%matplotlib inline\n",
    "import matplotlib.pyplot as plt\n",
    "import matplotlib.animation \n",
    "import numpy as np\n",
    "from matplotlib import animation\n",
    "from IPython.display import HTML"
   ]
  },
  {
   "cell_type": "markdown",
   "metadata": {},
   "source": [
    "## Define a function to evolve x to x_n\n",
    "This function takes our initial conditions, evolves x to x_n for a specific r, and saves each evolution of x in an array\n",
    "\n",
    "(Will)"
   ]
  },
  {
   "cell_type": "code",
   "execution_count": null,
   "metadata": {},
   "outputs": [],
   "source": [
    "def x_npo_array(x_0, r, n):\n",
    "    \n",
    "    a = []\n",
    "    i = 0\n",
    "    \n",
    "    while(i<n+2):\n",
    "        if(i==0):\n",
    "            x_npo = 4*r*x_0*(1 - x_0)\n",
    "            x_n = x_npo\n",
    "            a.append(x_n)\n",
    "            i += 1\n",
    "\n",
    "        elif(i<n+1):\n",
    "            x_npo = 4*r*x_n*(1 - x_n)\n",
    "            x_n = x_npo\n",
    "            a.append(x_n)\n",
    "            i += 1\n",
    "            \n",
    "        elif(i>=n+1):\n",
    "            i+=1\n",
    "             \n",
    "    return(a)"
   ]
  },
  {
   "cell_type": "markdown",
   "metadata": {},
   "source": [
    "## Define a function to evolve x to x_n for every R value\n",
    "This function evolves an x_n for every value of r and saves it to an array\n",
    "\n",
    "(Will)"
   ]
  },
  {
   "cell_type": "code",
   "execution_count": null,
   "metadata": {},
   "outputs": [],
   "source": [
    "def x_npo_array_R_array(r_i,r_n,z):\n",
    "\n",
    "    r = np.arange(r_i,r_n,z)\n",
    "    b = []\n",
    "    i = 0\n",
    "    \n",
    "    while(i<len(r)):\n",
    "        a = x_npo_array(0.65, r[i] ,100)\n",
    "        b.append(a)\n",
    "        i += 1\n",
    "        \n",
    "        \n",
    "    return b"
   ]
  },
  {
   "cell_type": "markdown",
   "metadata": {},
   "source": [
    "## Define a function that records the nth evolution of x at every value of r\n",
    "(Will)"
   ]
  },
  {
   "cell_type": "code",
   "execution_count": null,
   "metadata": {},
   "outputs": [],
   "source": [
    "def x_nth_array(r_i,r_n,z,n):\n",
    "    \n",
    "    b = x_npo_array_R_array(r_i,r_n,z)\n",
    "    r = np.arange(r_i,r_n,z)\n",
    "    x_n = []\n",
    "    i = 0\n",
    "    \n",
    "    while(i<len(r)):\n",
    "        x_n.append(b[i][n])\n",
    "        i += 1 \n",
    "    \n",
    "    return x_n"
   ]
  },
  {
   "cell_type": "markdown",
   "metadata": {},
   "source": [
    "## Define a function that computes the Lyupanov exponent for a value r\n",
    "\n",
    "(Nikita)"
   ]
  },
  {
   "cell_type": "code",
   "execution_count": null,
   "metadata": {},
   "outputs": [],
   "source": [
    "def lyupanov(z,x,r):\n",
    "    \n",
    "    i = 0\n",
    "    n = len(x)  # how many elements x\n",
    "    \n",
    "    while(i<n):   #n being the number of x values\n",
    "        if(i==0):\n",
    "            t = 4*r*(1-(2*x[z][i]))\n",
    "            l_0 = 0.5*np.log(np.fabs(t))\n",
    "            i += 1   #iterates\n",
    "        \n",
    "        elif(i<n-1):\n",
    "            t = 4*r*(1-(2*x[z][i]))\n",
    "            l = l_0 + 0.5*np.log(np.fabs(t))\n",
    "            l_0 = l   #defines the new l as l_0 so that we can plug it in summation above.\n",
    "                \n",
    "            i += 1 \n",
    "        else:\n",
    "            i += 1\n",
    "            \n",
    "    \n",
    "    return l_0"
   ]
  },
  {
   "cell_type": "markdown",
   "metadata": {},
   "source": [
    "## Define a function that creates an array Lyupanov values for every value of r\n",
    "(Nikita)"
   ]
  },
  {
   "cell_type": "code",
   "execution_count": null,
   "metadata": {},
   "outputs": [],
   "source": [
    "def r_loop():\n",
    "    x = x_npo_array_R_array(0.7,1.0,.01)\n",
    "    r = np.arange(0.7,1.0,.01)\n",
    "    l_y = []\n",
    "    i = 0 \n",
    "    z = 0\n",
    "    \n",
    "    while(i<len(r)): \n",
    "        l_y.append(lyupanov(z,x,r[i]))\n",
    "        i += 1 \n",
    "        z += 1\n",
    "        \n",
    "    return l_y"
   ]
  },
  {
   "cell_type": "markdown",
   "metadata": {},
   "source": [
    "## Plotting r vs Lyupanov, and r vs all x iterations\n",
    "(Trey)"
   ]
  },
  {
   "cell_type": "code",
   "execution_count": null,
   "metadata": {
    "scrolled": false
   },
   "outputs": [],
   "source": [
    "f, axarr = plt.subplots(1, 2)\n",
    "f.subplots_adjust(wspace=0.4)\n",
    "f.set_figheight(7)\n",
    "f.set_figwidth(17)\n",
    "\n",
    "b = x_npo_array_R_array(0.7,1.0,0.01)\n",
    "i = 0\n",
    "\n",
    "l_y = r_loop()\n",
    "x_n = x_nth_array(0.7,1.0,0.01,100)\n",
    "r = np.arange(0.7,1.0,.01)\n",
    "\n",
    "#first panel - x_npo\n",
    "while(i+60<len(b[0])-1):\n",
    "    axarr[0].plot(r[0:31],x_nth_array(0.7,1.0,0.01,i+60),'.',color='red')\n",
    "    i += 1\n",
    "axarr[0].set_xlabel('r', fontsize=17)\n",
    "axarr[0].set_ylabel('$x_n$', fontsize=17)\n",
    "axarr[0].set_title('$x_n\\ Values$', position=(0.5,1.07), fontsize=17)\n",
    "axarr[0].tick_params(labelsize=14)\n",
    "\n",
    "#second panel - ly\n",
    "axarr[1].plot(r, l_y,)\n",
    "#axarr[1].plot(r, s) - this is a line through l_y = 0 that we used to find where Lyupanov = 0\n",
    "axarr[1].set_xlabel('r', fontsize=17)\n",
    "axarr[1].set_ylabel('Lyapunov', fontsize=17)\n",
    "axarr[1].set_title('Lyapunov Values',position=(0.5,1.07), fontsize=17)\n",
    "axarr[1].tick_params(labelsize=14)"
   ]
  },
  {
   "cell_type": "markdown",
   "metadata": {},
   "source": [
    "## Values of r for which Lyupanov = 0 :\n",
    "approximate values of r:\n",
    "\n",
    "r = 0.75\n",
    "\n",
    "r = 0.87\n",
    "\n",
    "r = 0.895"
   ]
  },
  {
   "cell_type": "markdown",
   "metadata": {},
   "source": [
    "## Extra Credit Animations\n",
    "(Liam)"
   ]
  },
  {
   "cell_type": "code",
   "execution_count": null,
   "metadata": {},
   "outputs": [],
   "source": [
    "def animate(i):\n",
    "    l.set_data(t[:i], x1[:i])\n",
    "    g.set_data(t[:i], x2[:i])\n",
    "    h.set_data(t[:i], x3[:i])\n",
    "    j.set_data(t[:i], x4[:i])\n",
    "    k.set_data(t[:i], x5[:i])\n",
    "    m.set_data(t[:i], x6[:i])\n",
    "    n.set_data(t[:i], x7[:i])\n",
    "    o.set_data(t[:i], x8[:i])\n",
    "    p.set_data(t[:i], x9[:i])"
   ]
  },
  {
   "cell_type": "markdown",
   "metadata": {},
   "source": [
    "## Animation of r vs Lyupanov exponent"
   ]
  },
  {
   "cell_type": "code",
   "execution_count": null,
   "metadata": {},
   "outputs": [],
   "source": [
    "l_y = r_loop()\n",
    "x_n = x_nth_array(0.7,1.0,0.01,100)\n",
    "r = np.arange(0.7,1.0,.01)\n",
    "\n",
    "t = r\n",
    "x1 = l_y\n",
    "\n",
    "fig, ax = plt.subplots()\n",
    "ax.axis([0.7,1.0,l_y[11],11])\n",
    "l, = ax.plot([],[])\n",
    "\n",
    "\n",
    "ani = matplotlib.animation.FuncAnimation(fig, animate, frames=len(t))\n",
    "\n",
    "HTML(ani.to_jshtml())"
   ]
  },
  {
   "cell_type": "markdown",
   "metadata": {},
   "source": [
    "## Animation of r vs x_n"
   ]
  },
  {
   "cell_type": "code",
   "execution_count": null,
   "metadata": {
    "scrolled": false
   },
   "outputs": [],
   "source": [
    "#animation r vs x_n\n",
    "x_n = x_nth_array(0.7,1.0,0.01,100)\n",
    "r = np.arange(0.7,1.0,.01)\n",
    "b = x_npo_array_R_array(0.7,1.0,0.01)\n",
    "\n",
    "\n",
    "t = r\n",
    "x1 = x_nth_array(0.7,1.0,0.01,100)\n",
    "x2 = x_nth_array(0.7,1.0,0.01,99)\n",
    "x3 = x_nth_array(0.7,1.0,0.01,98)\n",
    "x4 = x_nth_array(0.7,1.0,0.01,97)\n",
    "x5 = x_nth_array(0.7,1.0,0.01,96)\n",
    "x6 = x_nth_array(0.7,1.0,0.01,95)\n",
    "x7 = x_nth_array(0.7,1.0,0.01,94)\n",
    "x8 = x_nth_array(0.7,1.0,0.01,93)\n",
    "x9 = x_nth_array(0.7,1.0,0.01,92)\n",
    "\n",
    "\n",
    "fig, ax = plt.subplots()\n",
    "ax.axis([0.7,1.0,0.0,1.0])\n",
    "l, = ax.plot([],[],'.',color=\"red\")\n",
    "g, = ax.plot([],[],'.',color=\"red\")\n",
    "h, = ax.plot([],[],'.',color=\"red\")\n",
    "j, = ax.plot([],[],'.',color=\"red\")\n",
    "k, = ax.plot([],[],'.',color=\"red\")\n",
    "m, = ax.plot([],[],'.',color=\"red\")\n",
    "n, = ax.plot([],[],'.',color=\"red\")\n",
    "o, = ax.plot([],[],'.',color=\"red\")\n",
    "p, = ax.plot([],[],'.',color=\"red\")\n",
    "\n",
    "\n",
    "\n",
    "ani = matplotlib.animation.FuncAnimation(fig, animate, frames=len(t))\n",
    "\n",
    "HTML(ani.to_jshtml())"
   ]
  },
  {
   "cell_type": "markdown",
   "metadata": {},
   "source": [
    "## Animation of x_n vs x"
   ]
  },
  {
   "cell_type": "code",
   "execution_count": null,
   "metadata": {},
   "outputs": [],
   "source": [
    "#animation x_n vs x\n",
    "\n",
    "l_y = r_loop()\n",
    "x_n = x_nth_array(0.7,1.0,0.01,100)\n",
    "r = np.arange(0.7,1.0,.01)\n",
    "b = x_npo_array_R_array(.7,1.0,0.01)\n",
    "\n",
    "t = np.linspace(0,100)\n",
    "x1 = b[0]\n",
    "x2 = b[3]\n",
    "x3 = b[6]\n",
    "x4 = b[9]\n",
    "x5 = b[12]\n",
    "x6 = b[15]\n",
    "x7 = b[18]\n",
    "x8 = b[21]\n",
    "x9 = b[30]\n",
    "\n",
    "fig, ax = plt.subplots()\n",
    "ax.axis([0.0,100.0,0.0,1.0])\n",
    "l, = ax.plot([],[],'.')\n",
    "g, = ax.plot([],[],'.')\n",
    "h, = ax.plot([],[],'.')\n",
    "j, = ax.plot([],[],'.')\n",
    "k, = ax.plot([],[],'.')\n",
    "m, = ax.plot([],[],'.')\n",
    "n, = ax.plot([],[],'.')\n",
    "o, = ax.plot([],[],'.')\n",
    "p, = ax.plot([],[],'.')\n",
    "\n",
    "ani = matplotlib.animation.FuncAnimation(fig, animate, frames=len(t))\n",
    "\n",
    "HTML(ani.to_jshtml())"
   ]
  }
 ],
 "metadata": {
  "kernelspec": {
   "display_name": "Python 3",
   "language": "python",
   "name": "python3"
  },
  "language_info": {
   "codemirror_mode": {
    "name": "ipython",
    "version": 3
   },
   "file_extension": ".py",
   "mimetype": "text/x-python",
   "name": "python",
   "nbconvert_exporter": "python",
   "pygments_lexer": "ipython3",
   "version": "3.6.5"
  }
 },
 "nbformat": 4,
 "nbformat_minor": 2
}
